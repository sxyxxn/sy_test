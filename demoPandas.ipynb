{
 "cells": [
  {
   "cell_type": "code",
   "execution_count": null,
   "metadata": {},
   "outputs": [],
   "source": [
    "%pylab\n",
    "%matplotlib inline\n",
    "import pandas\n",
    "\n",
    "plot(arange(10))\n",
    "# 셀단위로 실행(shift + enter)"
   ]
  },
  {
   "cell_type": "code",
   "execution_count": 13,
   "metadata": {},
   "outputs": [
    {
     "data": {
      "text/plain": [
       "type"
      ]
     },
     "execution_count": 13,
     "metadata": {},
     "output_type": "execute_result"
    }
   ],
   "source": [
    "# 판다스 선언\n",
    "from pandas import Series, DataFrame\n",
    "import pandas as pd\n",
    "\n",
    "type(pd.Series)"
   ]
  },
  {
   "cell_type": "code",
   "execution_count": 18,
   "metadata": {},
   "outputs": [
    {
     "name": "stdout",
     "output_type": "stream",
     "text": [
      "<class 'pandas.core.series.Series'>\n",
      "22-9-30    100\n",
      "22-10-1    200\n",
      "22-10-2    300\n",
      "22-10-3    400\n",
      "22-10-4    500\n",
      "dtype: int64\n",
      "100\n"
     ]
    }
   ],
   "source": [
    "multicampus = Series([100,200,300,400,500], \\\n",
    "                      index=[\"22-9-30\",\"22-10-1\",\"22-10-2\",\"22-10-3\",\"22-10-4\"])\n",
    "print( type(multicampus) )\n",
    "print( multicampus )\n",
    "print( multicampus[\"22-9-30\"] )"
   ]
  },
  {
   "cell_type": "code",
   "execution_count": 21,
   "metadata": {},
   "outputs": [
    {
     "name": "stdout",
     "output_type": "stream",
     "text": [
      "{'foreigner': [1, 2, 3, 4, 5, 6], 'sratio': [10, 20, 30, 40, 50, 60], 'org': [100, 200, 300, 400, 500, 600], 'sprice': [1, 2, 3, 4, 5, 6], 'private': [10, 20, 30, 40, 50, 60]}\n"
     ]
    }
   ],
   "source": [
    "# 데이터프레임 (6행5열)\n",
    "data = {\"foreigner\":[1,2,3,4,5,6],\\\n",
    "        \"sratio\":[10,20,30,40,50,60],\\\n",
    "        \"org\":[100,200,300,400,500,600],\\\n",
    "        \"sprice\":[1,2,3,4,5,6],\\\n",
    "        \"private\":[10,20,30,40,50,60]}\n",
    "\n",
    "print(data)"
   ]
  },
  {
   "cell_type": "code",
   "execution_count": null,
   "metadata": {},
   "outputs": [],
   "source": []
  }
 ],
 "metadata": {
  "kernelspec": {
   "display_name": "Python 3.9.10 64-bit",
   "language": "python",
   "name": "python3"
  },
  "language_info": {
   "codemirror_mode": {
    "name": "ipython",
    "version": 3
   },
   "file_extension": ".py",
   "mimetype": "text/x-python",
   "name": "python",
   "nbconvert_exporter": "python",
   "pygments_lexer": "ipython3",
   "version": "3.9.10"
  },
  "orig_nbformat": 4,
  "vscode": {
   "interpreter": {
    "hash": "81794d4967e6c3204c66dcd87b604927b115b27c00565d3d43f05ba2f3a2cb0d"
   }
  }
 },
 "nbformat": 4,
 "nbformat_minor": 2
}
